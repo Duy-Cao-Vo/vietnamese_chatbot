{
 "cells": [
  {
   "cell_type": "code",
   "execution_count": 2,
   "metadata": {},
   "outputs": [],
   "source": [
    "import re\n",
    "\n",
    "def parse_product_file(file_path):\n",
    "    products = []\n",
    "    product = None\n",
    "    \n",
    "    with open(file_path, 'r', encoding='utf-8') as file:\n",
    "        for line in file:\n",
    "            line = line.strip()\n",
    "            \n",
    "            # Xác định dòng bắt đầu một sản phẩm mới\n",
    "            match = re.match(r\"^(\\d+)\\. Mã sản phẩm: (\\w+)$\", line)\n",
    "            if match:\n",
    "                if product:\n",
    "                    products.append(product)  # Lưu sản phẩm trước đó\n",
    "                \n",
    "                product = {\n",
    "                    \"Mã sản phẩm\": match.group(2),\n",
    "                    \"Tên sản phẩm\": \"\",\n",
    "                    \"Chất liệu\": \"\",\n",
    "                    \"Kiểu dáng\": \"\",\n",
    "                    \"Giá\": \"\",\n",
    "                    \"Màu sắc\": \"\"\n",
    "                }\n",
    "                continue\n",
    "            \n",
    "            if product:\n",
    "                if line.startswith(\"Tên sản phẩm:\"):\n",
    "                    product[\"Tên sản phẩm\"] = line.split(\": \", 1)[1]\n",
    "                elif line.startswith(\"- Chất liệu:\"):\n",
    "                    product[\"Chất liệu\"] = line.split(\": \", 1)[1]\n",
    "                elif line.startswith(\"- Kiểu dáng:\"):\n",
    "                    product[\"Kiểu dáng\"] = line.split(\": \", 1)[1]\n",
    "                elif line.startswith(\"- Giá:\"):\n",
    "                    product[\"Giá\"] = line.split(\": \", 1)[1]\n",
    "                elif line.startswith(\"- Màu sắc:\"):\n",
    "                    product[\"Màu sắc\"] = line.split(\": \", 1)[1]\n",
    "    \n",
    "    if product:\n",
    "        products.append(product)  # Lưu sản phẩm cuối cùng\n",
    "    \n",
    "    return products\n"
   ]
  },
  {
   "cell_type": "code",
   "execution_count": 3,
   "metadata": {},
   "outputs": [
    {
     "name": "stdout",
     "output_type": "stream",
     "text": [
      "data/products/ao_so_mi.txt has 100 products\n",
      "data/products/ao_thun.txt has 100 products\n",
      "data/products/quan_jeans.txt has 100 products\n",
      "data/products/quan_kaki.txt has 100 products\n",
      "data/products/vay_dam.txt has 100 products\n"
     ]
    }
   ],
   "source": [
    "file_paths = [\"data/products/ao_so_mi.txt\",\n",
    "              \"data/products/ao_thun.txt\",\n",
    "              \"data/products/quan_jeans.txt\",\n",
    "              \"data/products/quan_kaki.txt\",\n",
    "              \"data/products/vay_dam.txt\"]\n",
    "\n",
    "for fp in file_paths:\n",
    "    print(f\"{fp} has {len(parse_product_file(fp))} products\")"
   ]
  },
  {
   "cell_type": "code",
   "execution_count": 4,
   "metadata": {},
   "outputs": [
    {
     "name": "stdout",
     "output_type": "stream",
     "text": [
      "dict_keys(['Áo sơ mi', 'Áo thun', 'Quần jean', 'Quần kaki', 'Váy đầm'])\n"
     ]
    }
   ],
   "source": [
    "file_paths = [[\"data/products/ao_so_mi.txt\", \"Áo sơ mi\"],\n",
    "              [\"data/products/ao_thun.txt\", \"Áo thun\"],\n",
    "              [\"data/products/quan_jeans.txt\", \"Quần jean\"],\n",
    "              [\"data/products/quan_kaki.txt\", \"Quần kaki\"],\n",
    "              [\"data/products/vay_dam.txt\", \"Váy đầm\"]]\n",
    "\n",
    "cat_prds={}\n",
    "for fp, cat in file_paths:\n",
    "    cat_prds[cat]=parse_product_file(fp)\n",
    "\n",
    "print(cat_prds.keys())"
   ]
  },
  {
   "cell_type": "code",
   "execution_count": 4,
   "metadata": {},
   "outputs": [
    {
     "name": "stdout",
     "output_type": "stream",
     "text": [
      "[{'Mã sản phẩm': 'ASM001', 'Tên sản phẩm': 'Áo Sơ Mi Trắng Công Sở', 'Chất liệu': '100% cotton cao cấp', 'Kiểu dáng': 'Regular fit (form suông vừa vặn)', 'Giá': '399.000 VNĐ', 'Màu sắc': 'Trắng'}, {'Mã sản phẩm': 'ASM002', 'Tên sản phẩm': 'Áo Sơ Mi Oxford Cơ Bản', 'Chất liệu': 'Vải Oxford (100% cotton)', 'Kiểu dáng': 'Slim fit (ôm nhẹ)', 'Giá': '429.000 VNĐ', 'Màu sắc': 'Trắng, Xanh nhạt, Xám nhạt'}]\n"
     ]
    }
   ],
   "source": [
    "print(cat_prds[\"Áo sơ mi\"][:2])"
   ]
  },
  {
   "cell_type": "code",
   "execution_count": 6,
   "metadata": {},
   "outputs": [],
   "source": [
    "import random\n",
    "import json\n",
    "size_chart = {\n",
    "    \"Áo sơ mi\": [\"XS\", \"S\", \"M\", \"L\", \"XL\", \"XXL\"],\n",
    "    \"Áo thun\": [\"XS\", \"S\", \"M\", \"L\", \"XL\", \"XXL\", \"XXXL\"],\n",
    "    \"Quần jean\": [\"28\", \"29\", \"30\", \"31\", \"32\", \"33\", \"34\", \"36\", \"38\", \"40\"],\n",
    "    \"Quần kaki\": [\"28\", \"29\", \"30\", \"31\", \"32\", \"33\", \"34\", \"36\", \"38\", \"40\"],\n",
    "    \"Váy đầm\": [\"XS\", \"S\", \"M\", \"L\", \"XL\"]\n",
    "}\n",
    "\n",
    "def generate_product_list(cat_prds, size_chart):\n",
    "    product_list = []\n",
    "    \n",
    "    for category, products in cat_prds.items():\n",
    "        sizes = size_chart.get(category, [])  # Get sizes for the category\n",
    "        \n",
    "        for product in products:\n",
    "            product_dict = {\n",
    "                \"id\": product[\"Mã sản phẩm\"],\n",
    "                \"name\": product[\"Tên sản phẩm\"],\n",
    "                \"category\": category,\n",
    "                \"price\": int(product[\"Giá\"].split(\" \")[0].replace(\".\", \"\")),\n",
    "                \"description\": f\"{category} bằng {product['Chất liệu'].lower()} kiểu dáng {product['Kiểu dáng'].lower()}\",\n",
    "                \"sizes\": {}\n",
    "            }\n",
    "            \n",
    "            # Generate stock quantities for each size and color\n",
    "            colors = product[\"Màu sắc\"].split(\", \")\n",
    "            for size in sizes:\n",
    "                product_dict[\"sizes\"][size] = {color: random.randint(10, 50) for color in colors}\n",
    "            \n",
    "            product_list.append(product_dict)\n",
    "    \n",
    "    return product_list\n",
    "\n",
    "# Example usage\n",
    "product_data = generate_product_list(cat_prds, size_chart)\n",
    "\n",
    "# Write to a JSON file\n",
    "output_data = {\"products\": product_data}\n",
    "with open(\"data/inventory/gen_inventory.json\", \"w\", encoding=\"utf-8\") as json_file:\n",
    "    json.dump(output_data, json_file, ensure_ascii=False, indent=4)\n",
    "\n"
   ]
  }
 ],
 "metadata": {
  "kernelspec": {
   "display_name": "llm-env",
   "language": "python",
   "name": "python3"
  },
  "language_info": {
   "codemirror_mode": {
    "name": "ipython",
    "version": 3
   },
   "file_extension": ".py",
   "mimetype": "text/x-python",
   "name": "python",
   "nbconvert_exporter": "python",
   "pygments_lexer": "ipython3",
   "version": "3.13.2"
  }
 },
 "nbformat": 4,
 "nbformat_minor": 2
}
